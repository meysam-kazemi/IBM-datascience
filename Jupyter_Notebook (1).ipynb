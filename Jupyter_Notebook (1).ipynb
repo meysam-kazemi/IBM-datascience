{
 "cells": [
  {
   "cell_type": "markdown",
   "metadata": {},
   "source": [
    "<center>\n",
    "    <img src=\"https://cf-courses-data.s3.us.cloud-object-storage.appdomain.cloud/IBMDeveloperSkillsNetwork-DS0105EN-SkillsNetwork/labs/Module2/images/SN_web_lightmode.png\" width=\"300\" alt=\"cognitiveclass.ai logo\">\n",
    "</center>\n"
   ]
  },
  {
   "cell_type": "markdown",
   "metadata": {},
   "source": [
    "#### Add your code below following the instructions given in the course\n"
   ]
  },
  {
   "cell_type": "markdown",
   "metadata": {
    "tags": []
   },
   "source": [
    "# Data science assignment\n",
    "###### exercise 2"
   ]
  },
  {
   "cell_type": "markdown",
   "metadata": {
    "tags": []
   },
   "source": [
    "## introduction : In this notebook I solve Peer-graded Assignment questions\n",
    "###### exercise 3"
   ]
  },
  {
   "cell_type": "markdown",
   "metadata": {},
   "source": [
    "## list data science languages :\n",
    "- python\n",
    "- R\n",
    "- Java\n",
    "- Scala\n",
    "- SQL\n",
    "- Julia\n",
    "- Ruby\n",
    "- Matlab\n",
    "- C\n",
    "- javascript\n",
    "###### exercise 4"
   ]
  },
  {
   "cell_type": "markdown",
   "metadata": {},
   "source": [
    "## list data science libraries:\n",
    "- numpy\n",
    "- scipy\n",
    "- pandas\n",
    "- Tensorflow\n",
    "- PyTorch\n",
    "- Keras\n",
    "- scikit-learn\n",
    "- Theano\n",
    "###### exercise 5"
   ]
  },
  {
   "cell_type": "markdown",
   "metadata": {},
   "source": [
    "## table of data science tools:\n",
    "this is an example!\n",
    "|data management|data integration|data visualization|Model deployment |\n",
    "|--------|--------|--------|--------|\n",
    "| MySQl | Kubeflow | PixieDust |PredictionIO|\n",
    "| CouchDB| kafka | Hue |SELDON|\n",
    "| MongoDB | nifi | Kibana |mleap|\n",
    "| PostgreSQL | Airflow | Suoerset |kubernets|\n",
    "###### exercise 6"
   ]
  },
  {
   "cell_type": "markdown",
   "metadata": {},
   "source": [
    "## introducing arithmetic expression example\n",
    "###### exercise 7"
   ]
  },
  {
   "cell_type": "code",
   "execution_count": 4,
   "metadata": {
    "tags": []
   },
   "outputs": [
    {
     "name": "stdout",
     "output_type": "stream",
     "text": [
      "multiply : 620\n",
      "add : 51\n"
     ]
    }
   ],
   "source": [
    "# exercise 8\n",
    "a = 20\n",
    "b = 31\n",
    "print(f\"multiply : {a * b}\")\n",
    "print(f\"add : {a + b}\")"
   ]
  },
  {
   "cell_type": "code",
   "execution_count": 5,
   "metadata": {
    "tags": []
   },
   "outputs": [
    {
     "name": "stdout",
     "output_type": "stream",
     "text": [
      "180 minutes is 3.0 hours\n"
     ]
    }
   ],
   "source": [
    "# exercise 9\n",
    "minutes = 180\n",
    "print(f\"{minutes} minutes is {minutes/60} hours\")"
   ]
  },
  {
   "cell_type": "markdown",
   "metadata": {},
   "source": [
    "## insert a markdown cell to list Objectives\n",
    "- exercise 1\n",
    "- exercise 2\n",
    "\n",
    "###### exercise 10"
   ]
  },
  {
   "cell_type": "markdown",
   "metadata": {},
   "source": [
    "##  Create a markdown cell to indicate the Author’s name.\n",
    "---\n",
    "author: Meysam\n",
    "\n",
    "---\n",
    "###### exercise 11"
   ]
  },
  {
   "cell_type": "code",
   "execution_count": null,
   "metadata": {},
   "outputs": [],
   "source": []
  }
 ],
 "metadata": {
  "kernelspec": {
   "display_name": "Python",
   "language": "python",
   "name": "conda-env-python-py"
  },
  "language_info": {
   "codemirror_mode": {
    "name": "ipython",
    "version": 3
   },
   "file_extension": ".py",
   "mimetype": "text/x-python",
   "name": "python",
   "nbconvert_exporter": "python",
   "pygments_lexer": "ipython3",
   "version": "3.7.12"
  }
 },
 "nbformat": 4,
 "nbformat_minor": 4
}
